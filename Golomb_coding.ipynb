{
 "cells": [
  {
   "cell_type": "markdown",
   "metadata": {
    "slideshow": {
     "slide_type": "slide"
    }
   },
   "source": [
    "# Golomb coding [[Golomb, 1966]](https://scholar.google.es/scholar?hl=es&as_sdt=0%2C5&q=golomb+1966+run&btnG=)\n",
    "\n",
    "* When the probabilities of the symbols follow an exponential\n",
    "  distribution, the Golomg encoder has the same efficiency than the\n",
    "  Huffman coding, but it is faster. In this case, the probabilities of\n",
    "  the symbols shoud be\n",
    "  \\begin{equation}\n",
    "    p(s) =\n",
    "    2^{\\displaystyle-\\Big(\\displaystyle m\\big\\lfloor\\displaystyle\\frac{s+m}{m}\\big\\rfloor\\Big)}\n",
    "    \\tag{Eq:Golomb}\n",
    "  \\end{equation}\n",
    "  where $s=0,1,\\cdots$ is the symbol and $m=0,1,\\cdots$ is the\n",
    "  \"Golomb slope\" of the distribution.\n",
    "  \n",
    "* For $m=2^k$, it is possible to find a very efficient\n",
    "  implementation and the encoder is also named Rice\n",
    "  encoder~\\cite{Rice79}. In this case\n",
    "  \\begin{equation}\n",
    "    p(s) =\n",
    "    2^{\\displaystyle-\\Big(2^k \\displaystyle\\big\\lfloor\\displaystyle\\frac{s+2^k}{2^k}\\big\\rfloor\\Big)}\n",
    "    \\tag{Eq:Rice}\n",
    "    \\label{eq:Rice}\n",
    "  \\end{equation}\n",
    "\n",
    "<img src=\"data/Golomb_coding.png\" width=\"600\">\n",
    "\n",
    "* Notice that for $m=1$, we take the unary encoding.\n",
    "\n",
    "<img src=\"data/Golomb.png\" width=\"600\">"
   ]
  },
  {
   "cell_type": "markdown",
   "metadata": {
    "slideshow": {
     "slide_type": "subslide"
    }
   },
   "source": [
    "### Encoder\n",
    "\n",
    "1. $k\\leftarrow \\lceil\\log_2(m)\\rceil$.\n",
    "2. $r\\leftarrow s~\\mathrm{mod}~m$.\n",
    "3. $t\\leftarrow 2^k-m$.\n",
    "4. Output $(s~\\mathrm{div}~m)$ using an unary code.\n",
    "5. If $r<t$:\n",
    "    1. Output the integer encoded in the $k-1$ least significant bits of $r$ using a binary code.\n",
    "6. Else:\n",
    "    1. $r\\leftarrow r+t$.\n",
    "    2. Output the integer encoded in the $k$ least significant bits of $r$ using a binary code."
   ]
  },
  {
   "cell_type": "markdown",
   "metadata": {
    "slideshow": {
     "slide_type": "subslide"
    }
   },
   "source": [
    "### Example ($m=7$ and $s=8$)\n",
    "\n",
    "1. [1] $k\\leftarrow \\lceil\\log_2(8)\\rceil=3$.\n",
    "2. [2] $r\\leftarrow 8 \\text{mod} 7 = 1$.\n",
    "3. [3] $t\\leftarrow 2^3-7 = 8-7 = 1$.\n",
    "4. [4] Output $\\leftarrow 8 \\text{div} 7 = \\lfloor 8/7\\rfloor=1$ as an unary code (2 bits). Therefore, output $\\leftarrow 10$.\n",
    "5. [5] $r=1\\le t=1$.\n",
    "6. [6.A] $r\\leftarrow 1+1=2$.\n",
    "7. [6.B] Output $r=2$ using a binary code of $k=3$ bits. Therefore, $c(8)=10010$."
   ]
  },
  {
   "cell_type": "markdown",
   "metadata": {
    "slideshow": {
     "slide_type": "subslide"
    }
   },
   "source": [
    "### Decoder\n",
    "\n",
    "1. $k\\leftarrow\\lceil\\log_2(m)\\rceil$.\n",
    "2. $t\\leftarrow 2^k-m$.\n",
    "3. Let $s\\leftarrow$ the number of consecutive ones in the input (we stop when we read a $0$).\n",
    "4. Let $x\\leftarrow$ the next $k-1$ bits in the input.\n",
    "5. If $x<t$:\n",
    "    1. $s\\leftarrow s\\times m+x$.\n",
    "6. Else:\n",
    "    1. $x\\leftarrow x\\times 2~+$ next input bit.\n",
    "    2. $s\\leftarrow s\\times m+x-t$."
   ]
  },
  {
   "cell_type": "markdown",
   "metadata": {
    "slideshow": {
     "slide_type": "subslide"
    }
   },
   "source": [
    "### Example (decode $10010$ where $m=7$)\n",
    "\n",
    "1. [1] $k\\leftarrow 3$.\n",
    "2. [2] $t\\leftarrow 2^k-m = 2^3-7=1$).\n",
    "3. [3] $s\\leftarrow 1$ because we found only one $1$ in the input.\n",
    "4. [4] $x\\leftarrow \\text{input}_{k-1} = \\text{input}_2 = 01$.\n",
    "5. [5] $x=1\\nless t=1$.\n",
    "6. [6.A] $x\\leftarrow x\\times x\\times 2+\\text{next input bit} = x\\times 1\\times 2+0 = 2$.\n",
    "7. [6.B] $s\\leftarrow s\\times m+x-t = 1\\times 7+2-1=8$."
   ]
  },
  {
   "cell_type": "markdown",
   "metadata": {
    "slideshow": {
     "slide_type": "subslide"
    }
   },
   "source": [
    "#### Lab\n",
    "TO-DO"
   ]
  }
 ],
 "metadata": {
  "celltoolbar": "Slideshow",
  "kernelspec": {
   "display_name": "Python 3",
   "language": "python",
   "name": "python3"
  },
  "language_info": {
   "codemirror_mode": {
    "name": "ipython",
    "version": 3
   },
   "file_extension": ".py",
   "mimetype": "text/x-python",
   "name": "python",
   "nbconvert_exporter": "python",
   "pygments_lexer": "ipython3",
   "version": "3.6.3"
  }
 },
 "nbformat": 4,
 "nbformat_minor": 1
}
